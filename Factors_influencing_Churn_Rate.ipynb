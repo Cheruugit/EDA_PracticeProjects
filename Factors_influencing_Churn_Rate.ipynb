{
  "nbformat": 4,
  "nbformat_minor": 0,
  "metadata": {
    "colab": {
      "provenance": [],
      "authorship_tag": "ABX9TyPWvYEm2Lmf1ZTlXfh1Wswv",
      "include_colab_link": true
    },
    "kernelspec": {
      "name": "python3",
      "display_name": "Python 3"
    },
    "language_info": {
      "name": "python"
    }
  },
  "cells": [
    {
      "cell_type": "markdown",
      "metadata": {
        "id": "view-in-github",
        "colab_type": "text"
      },
      "source": [
        "<a href=\"https://colab.research.google.com/github/Cheruugit/EDA_PracticeProjects/blob/main/Factors_influencing_Churn_Rate.ipynb\" target=\"_parent\"><img src=\"https://colab.research.google.com/assets/colab-badge.svg\" alt=\"Open In Colab\"/></a>"
      ]
    },
    {
      "cell_type": "markdown",
      "source": [
        "#1. Telco Company\n",
        "![telcom.jpeg](data:image/jpeg;base64,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)"
      ],
      "metadata": {
        "id": "xLaH1nG0xZRT"
      }
    },
    {
      "cell_type": "markdown",
      "source": [
        "This is Telco company that provides services to customers. Some customers have left and we want to understand /analyze the case and reasons for leaving from the features provided in the data.\n",
        "\n",
        "#About Dataset\n",
        "**-Customers who left within the last month – the column is called Churn**\n",
        "\n",
        "-**Services that each customer has signed up for **– phone, multiple lines, internet, online security, online backup, device protection, tech support, and streaming TV and movies\n",
        "\n",
        "-**Customer account information** – how long they’ve been a customer, contract, payment method, paperless billing, monthly charges, and total charges\n",
        "\n",
        "-**Demographic info about customers** – gender, age range, and if they have partners and dependents"
      ],
      "metadata": {
        "id": "VUqfFz67yhqa"
      }
    },
    {
      "cell_type": "code",
      "execution_count": 2,
      "metadata": {
        "id": "jFY18b9vwZnE"
      },
      "outputs": [],
      "source": [
        "import pandas as pd\n",
        "import numpy as np\n",
        "import matplotlib.pyplot as plt\n",
        "import seaborn as sns"
      ]
    },
    {
      "cell_type": "code",
      "source": [
        "df=pd.read_csv('/content/WA_Fn-UseC_-Telco-Customer-Churn.csv')\n",
        "df"
      ],
      "metadata": {
        "colab": {
          "base_uri": "https://localhost:8080/",
          "height": 617
        },
        "id": "RjdZGtIuwlIO",
        "outputId": "41214ce1-55a6-494e-dd4e-559e710d89b3"
      },
      "execution_count": 3,
      "outputs": [
        {
          "output_type": "execute_result",
          "data": {
            "text/plain": [
              "      customerID  gender  SeniorCitizen Partner Dependents  tenure  \\\n",
              "0     7590-VHVEG  Female              0     Yes         No       1   \n",
              "1     5575-GNVDE    Male              0      No         No      34   \n",
              "2     3668-QPYBK    Male              0      No         No       2   \n",
              "3     7795-CFOCW    Male              0      No         No      45   \n",
              "4     9237-HQITU  Female              0      No         No       2   \n",
              "...          ...     ...            ...     ...        ...     ...   \n",
              "7038  6840-RESVB    Male              0     Yes        Yes      24   \n",
              "7039  2234-XADUH  Female              0     Yes        Yes      72   \n",
              "7040  4801-JZAZL  Female              0     Yes        Yes      11   \n",
              "7041  8361-LTMKD    Male              1     Yes         No       4   \n",
              "7042  3186-AJIEK    Male              0      No         No      66   \n",
              "\n",
              "     PhoneService     MultipleLines InternetService OnlineSecurity  ...  \\\n",
              "0              No  No phone service             DSL             No  ...   \n",
              "1             Yes                No             DSL            Yes  ...   \n",
              "2             Yes                No             DSL            Yes  ...   \n",
              "3              No  No phone service             DSL            Yes  ...   \n",
              "4             Yes                No     Fiber optic             No  ...   \n",
              "...           ...               ...             ...            ...  ...   \n",
              "7038          Yes               Yes             DSL            Yes  ...   \n",
              "7039          Yes               Yes     Fiber optic             No  ...   \n",
              "7040           No  No phone service             DSL            Yes  ...   \n",
              "7041          Yes               Yes     Fiber optic             No  ...   \n",
              "7042          Yes                No     Fiber optic            Yes  ...   \n",
              "\n",
              "     DeviceProtection TechSupport StreamingTV StreamingMovies        Contract  \\\n",
              "0                  No          No          No              No  Month-to-month   \n",
              "1                 Yes          No          No              No        One year   \n",
              "2                  No          No          No              No  Month-to-month   \n",
              "3                 Yes         Yes          No              No        One year   \n",
              "4                  No          No          No              No  Month-to-month   \n",
              "...               ...         ...         ...             ...             ...   \n",
              "7038              Yes         Yes         Yes             Yes        One year   \n",
              "7039              Yes          No         Yes             Yes        One year   \n",
              "7040               No          No          No              No  Month-to-month   \n",
              "7041               No          No          No              No  Month-to-month   \n",
              "7042              Yes         Yes         Yes             Yes        Two year   \n",
              "\n",
              "     PaperlessBilling              PaymentMethod MonthlyCharges  TotalCharges  \\\n",
              "0                 Yes           Electronic check          29.85         29.85   \n",
              "1                  No               Mailed check          56.95        1889.5   \n",
              "2                 Yes               Mailed check          53.85        108.15   \n",
              "3                  No  Bank transfer (automatic)          42.30       1840.75   \n",
              "4                 Yes           Electronic check          70.70        151.65   \n",
              "...               ...                        ...            ...           ...   \n",
              "7038              Yes               Mailed check          84.80        1990.5   \n",
              "7039              Yes    Credit card (automatic)         103.20        7362.9   \n",
              "7040              Yes           Electronic check          29.60        346.45   \n",
              "7041              Yes               Mailed check          74.40         306.6   \n",
              "7042              Yes  Bank transfer (automatic)         105.65        6844.5   \n",
              "\n",
              "     Churn  \n",
              "0       No  \n",
              "1       No  \n",
              "2      Yes  \n",
              "3       No  \n",
              "4      Yes  \n",
              "...    ...  \n",
              "7038    No  \n",
              "7039    No  \n",
              "7040    No  \n",
              "7041   Yes  \n",
              "7042    No  \n",
              "\n",
              "[7043 rows x 21 columns]"
            ],
            "text/html": [
              "\n",
              "  <div id=\"df-ba5392d5-d315-4ad9-b6de-dd180404cd8d\" class=\"colab-df-container\">\n",
              "    <div>\n",
              "<style scoped>\n",
              "    .dataframe tbody tr th:only-of-type {\n",
              "        vertical-align: middle;\n",
              "    }\n",
              "\n",
              "    .dataframe tbody tr th {\n",
              "        vertical-align: top;\n",
              "    }\n",
              "\n",
              "    .dataframe thead th {\n",
              "        text-align: right;\n",
              "    }\n",
              "</style>\n",
              "<table border=\"1\" class=\"dataframe\">\n",
              "  <thead>\n",
              "    <tr style=\"text-align: right;\">\n",
              "      <th></th>\n",
              "      <th>customerID</th>\n",
              "      <th>gender</th>\n",
              "      <th>SeniorCitizen</th>\n",
              "      <th>Partner</th>\n",
              "      <th>Dependents</th>\n",
              "      <th>tenure</th>\n",
              "      <th>PhoneService</th>\n",
              "      <th>MultipleLines</th>\n",
              "      <th>InternetService</th>\n",
              "      <th>OnlineSecurity</th>\n",
              "      <th>...</th>\n",
              "      <th>DeviceProtection</th>\n",
              "      <th>TechSupport</th>\n",
              "      <th>StreamingTV</th>\n",
              "      <th>StreamingMovies</th>\n",
              "      <th>Contract</th>\n",
              "      <th>PaperlessBilling</th>\n",
              "      <th>PaymentMethod</th>\n",
              "      <th>MonthlyCharges</th>\n",
              "      <th>TotalCharges</th>\n",
              "      <th>Churn</th>\n",
              "    </tr>\n",
              "  </thead>\n",
              "  <tbody>\n",
              "    <tr>\n",
              "      <th>0</th>\n",
              "      <td>7590-VHVEG</td>\n",
              "      <td>Female</td>\n",
              "      <td>0</td>\n",
              "      <td>Yes</td>\n",
              "      <td>No</td>\n",
              "      <td>1</td>\n",
              "      <td>No</td>\n",
              "      <td>No phone service</td>\n",
              "      <td>DSL</td>\n",
              "      <td>No</td>\n",
              "      <td>...</td>\n",
              "      <td>No</td>\n",
              "      <td>No</td>\n",
              "      <td>No</td>\n",
              "      <td>No</td>\n",
              "      <td>Month-to-month</td>\n",
              "      <td>Yes</td>\n",
              "      <td>Electronic check</td>\n",
              "      <td>29.85</td>\n",
              "      <td>29.85</td>\n",
              "      <td>No</td>\n",
              "    </tr>\n",
              "    <tr>\n",
              "      <th>1</th>\n",
              "      <td>5575-GNVDE</td>\n",
              "      <td>Male</td>\n",
              "      <td>0</td>\n",
              "      <td>No</td>\n",
              "      <td>No</td>\n",
              "      <td>34</td>\n",
              "      <td>Yes</td>\n",
              "      <td>No</td>\n",
              "      <td>DSL</td>\n",
              "      <td>Yes</td>\n",
              "      <td>...</td>\n",
              "      <td>Yes</td>\n",
              "      <td>No</td>\n",
              "      <td>No</td>\n",
              "      <td>No</td>\n",
              "      <td>One year</td>\n",
              "      <td>No</td>\n",
              "      <td>Mailed check</td>\n",
              "      <td>56.95</td>\n",
              "      <td>1889.5</td>\n",
              "      <td>No</td>\n",
              "    </tr>\n",
              "    <tr>\n",
              "      <th>2</th>\n",
              "      <td>3668-QPYBK</td>\n",
              "      <td>Male</td>\n",
              "      <td>0</td>\n",
              "      <td>No</td>\n",
              "      <td>No</td>\n",
              "      <td>2</td>\n",
              "      <td>Yes</td>\n",
              "      <td>No</td>\n",
              "      <td>DSL</td>\n",
              "      <td>Yes</td>\n",
              "      <td>...</td>\n",
              "      <td>No</td>\n",
              "      <td>No</td>\n",
              "      <td>No</td>\n",
              "      <td>No</td>\n",
              "      <td>Month-to-month</td>\n",
              "      <td>Yes</td>\n",
              "      <td>Mailed check</td>\n",
              "      <td>53.85</td>\n",
              "      <td>108.15</td>\n",
              "      <td>Yes</td>\n",
              "    </tr>\n",
              "    <tr>\n",
              "      <th>3</th>\n",
              "      <td>7795-CFOCW</td>\n",
              "      <td>Male</td>\n",
              "      <td>0</td>\n",
              "      <td>No</td>\n",
              "      <td>No</td>\n",
              "      <td>45</td>\n",
              "      <td>No</td>\n",
              "      <td>No phone service</td>\n",
              "      <td>DSL</td>\n",
              "      <td>Yes</td>\n",
              "      <td>...</td>\n",
              "      <td>Yes</td>\n",
              "      <td>Yes</td>\n",
              "      <td>No</td>\n",
              "      <td>No</td>\n",
              "      <td>One year</td>\n",
              "      <td>No</td>\n",
              "      <td>Bank transfer (automatic)</td>\n",
              "      <td>42.30</td>\n",
              "      <td>1840.75</td>\n",
              "      <td>No</td>\n",
              "    </tr>\n",
              "    <tr>\n",
              "      <th>4</th>\n",
              "      <td>9237-HQITU</td>\n",
              "      <td>Female</td>\n",
              "      <td>0</td>\n",
              "      <td>No</td>\n",
              "      <td>No</td>\n",
              "      <td>2</td>\n",
              "      <td>Yes</td>\n",
              "      <td>No</td>\n",
              "      <td>Fiber optic</td>\n",
              "      <td>No</td>\n",
              "      <td>...</td>\n",
              "      <td>No</td>\n",
              "      <td>No</td>\n",
              "      <td>No</td>\n",
              "      <td>No</td>\n",
              "      <td>Month-to-month</td>\n",
              "      <td>Yes</td>\n",
              "      <td>Electronic check</td>\n",
              "      <td>70.70</td>\n",
              "      <td>151.65</td>\n",
              "      <td>Yes</td>\n",
              "    </tr>\n",
              "    <tr>\n",
              "      <th>...</th>\n",
              "      <td>...</td>\n",
              "      <td>...</td>\n",
              "      <td>...</td>\n",
              "      <td>...</td>\n",
              "      <td>...</td>\n",
              "      <td>...</td>\n",
              "      <td>...</td>\n",
              "      <td>...</td>\n",
              "      <td>...</td>\n",
              "      <td>...</td>\n",
              "      <td>...</td>\n",
              "      <td>...</td>\n",
              "      <td>...</td>\n",
              "      <td>...</td>\n",
              "      <td>...</td>\n",
              "      <td>...</td>\n",
              "      <td>...</td>\n",
              "      <td>...</td>\n",
              "      <td>...</td>\n",
              "      <td>...</td>\n",
              "      <td>...</td>\n",
              "    </tr>\n",
              "    <tr>\n",
              "      <th>7038</th>\n",
              "      <td>6840-RESVB</td>\n",
              "      <td>Male</td>\n",
              "      <td>0</td>\n",
              "      <td>Yes</td>\n",
              "      <td>Yes</td>\n",
              "      <td>24</td>\n",
              "      <td>Yes</td>\n",
              "      <td>Yes</td>\n",
              "      <td>DSL</td>\n",
              "      <td>Yes</td>\n",
              "      <td>...</td>\n",
              "      <td>Yes</td>\n",
              "      <td>Yes</td>\n",
              "      <td>Yes</td>\n",
              "      <td>Yes</td>\n",
              "      <td>One year</td>\n",
              "      <td>Yes</td>\n",
              "      <td>Mailed check</td>\n",
              "      <td>84.80</td>\n",
              "      <td>1990.5</td>\n",
              "      <td>No</td>\n",
              "    </tr>\n",
              "    <tr>\n",
              "      <th>7039</th>\n",
              "      <td>2234-XADUH</td>\n",
              "      <td>Female</td>\n",
              "      <td>0</td>\n",
              "      <td>Yes</td>\n",
              "      <td>Yes</td>\n",
              "      <td>72</td>\n",
              "      <td>Yes</td>\n",
              "      <td>Yes</td>\n",
              "      <td>Fiber optic</td>\n",
              "      <td>No</td>\n",
              "      <td>...</td>\n",
              "      <td>Yes</td>\n",
              "      <td>No</td>\n",
              "      <td>Yes</td>\n",
              "      <td>Yes</td>\n",
              "      <td>One year</td>\n",
              "      <td>Yes</td>\n",
              "      <td>Credit card (automatic)</td>\n",
              "      <td>103.20</td>\n",
              "      <td>7362.9</td>\n",
              "      <td>No</td>\n",
              "    </tr>\n",
              "    <tr>\n",
              "      <th>7040</th>\n",
              "      <td>4801-JZAZL</td>\n",
              "      <td>Female</td>\n",
              "      <td>0</td>\n",
              "      <td>Yes</td>\n",
              "      <td>Yes</td>\n",
              "      <td>11</td>\n",
              "      <td>No</td>\n",
              "      <td>No phone service</td>\n",
              "      <td>DSL</td>\n",
              "      <td>Yes</td>\n",
              "      <td>...</td>\n",
              "      <td>No</td>\n",
              "      <td>No</td>\n",
              "      <td>No</td>\n",
              "      <td>No</td>\n",
              "      <td>Month-to-month</td>\n",
              "      <td>Yes</td>\n",
              "      <td>Electronic check</td>\n",
              "      <td>29.60</td>\n",
              "      <td>346.45</td>\n",
              "      <td>No</td>\n",
              "    </tr>\n",
              "    <tr>\n",
              "      <th>7041</th>\n",
              "      <td>8361-LTMKD</td>\n",
              "      <td>Male</td>\n",
              "      <td>1</td>\n",
              "      <td>Yes</td>\n",
              "      <td>No</td>\n",
              "      <td>4</td>\n",
              "      <td>Yes</td>\n",
              "      <td>Yes</td>\n",
              "      <td>Fiber optic</td>\n",
              "      <td>No</td>\n",
              "      <td>...</td>\n",
              "      <td>No</td>\n",
              "      <td>No</td>\n",
              "      <td>No</td>\n",
              "      <td>No</td>\n",
              "      <td>Month-to-month</td>\n",
              "      <td>Yes</td>\n",
              "      <td>Mailed check</td>\n",
              "      <td>74.40</td>\n",
              "      <td>306.6</td>\n",
              "      <td>Yes</td>\n",
              "    </tr>\n",
              "    <tr>\n",
              "      <th>7042</th>\n",
              "      <td>3186-AJIEK</td>\n",
              "      <td>Male</td>\n",
              "      <td>0</td>\n",
              "      <td>No</td>\n",
              "      <td>No</td>\n",
              "      <td>66</td>\n",
              "      <td>Yes</td>\n",
              "      <td>No</td>\n",
              "      <td>Fiber optic</td>\n",
              "      <td>Yes</td>\n",
              "      <td>...</td>\n",
              "      <td>Yes</td>\n",
              "      <td>Yes</td>\n",
              "      <td>Yes</td>\n",
              "      <td>Yes</td>\n",
              "      <td>Two year</td>\n",
              "      <td>Yes</td>\n",
              "      <td>Bank transfer (automatic)</td>\n",
              "      <td>105.65</td>\n",
              "      <td>6844.5</td>\n",
              "      <td>No</td>\n",
              "    </tr>\n",
              "  </tbody>\n",
              "</table>\n",
              "<p>7043 rows × 21 columns</p>\n",
              "</div>\n",
              "    <div class=\"colab-df-buttons\">\n",
              "\n",
              "  <div class=\"colab-df-container\">\n",
              "    <button class=\"colab-df-convert\" onclick=\"convertToInteractive('df-ba5392d5-d315-4ad9-b6de-dd180404cd8d')\"\n",
              "            title=\"Convert this dataframe to an interactive table.\"\n",
              "            style=\"display:none;\">\n",
              "\n",
              "  <svg xmlns=\"http://www.w3.org/2000/svg\" height=\"24px\" viewBox=\"0 -960 960 960\">\n",
              "    <path d=\"M120-120v-720h720v720H120Zm60-500h600v-160H180v160Zm220 220h160v-160H400v160Zm0 220h160v-160H400v160ZM180-400h160v-160H180v160Zm440 0h160v-160H620v160ZM180-180h160v-160H180v160Zm440 0h160v-160H620v160Z\"/>\n",
              "  </svg>\n",
              "    </button>\n",
              "\n",
              "  <style>\n",
              "    .colab-df-container {\n",
              "      display:flex;\n",
              "      gap: 12px;\n",
              "    }\n",
              "\n",
              "    .colab-df-convert {\n",
              "      background-color: #E8F0FE;\n",
              "      border: none;\n",
              "      border-radius: 50%;\n",
              "      cursor: pointer;\n",
              "      display: none;\n",
              "      fill: #1967D2;\n",
              "      height: 32px;\n",
              "      padding: 0 0 0 0;\n",
              "      width: 32px;\n",
              "    }\n",
              "\n",
              "    .colab-df-convert:hover {\n",
              "      background-color: #E2EBFA;\n",
              "      box-shadow: 0px 1px 2px rgba(60, 64, 67, 0.3), 0px 1px 3px 1px rgba(60, 64, 67, 0.15);\n",
              "      fill: #174EA6;\n",
              "    }\n",
              "\n",
              "    .colab-df-buttons div {\n",
              "      margin-bottom: 4px;\n",
              "    }\n",
              "\n",
              "    [theme=dark] .colab-df-convert {\n",
              "      background-color: #3B4455;\n",
              "      fill: #D2E3FC;\n",
              "    }\n",
              "\n",
              "    [theme=dark] .colab-df-convert:hover {\n",
              "      background-color: #434B5C;\n",
              "      box-shadow: 0px 1px 3px 1px rgba(0, 0, 0, 0.15);\n",
              "      filter: drop-shadow(0px 1px 2px rgba(0, 0, 0, 0.3));\n",
              "      fill: #FFFFFF;\n",
              "    }\n",
              "  </style>\n",
              "\n",
              "    <script>\n",
              "      const buttonEl =\n",
              "        document.querySelector('#df-ba5392d5-d315-4ad9-b6de-dd180404cd8d button.colab-df-convert');\n",
              "      buttonEl.style.display =\n",
              "        google.colab.kernel.accessAllowed ? 'block' : 'none';\n",
              "\n",
              "      async function convertToInteractive(key) {\n",
              "        const element = document.querySelector('#df-ba5392d5-d315-4ad9-b6de-dd180404cd8d');\n",
              "        const dataTable =\n",
              "          await google.colab.kernel.invokeFunction('convertToInteractive',\n",
              "                                                    [key], {});\n",
              "        if (!dataTable) return;\n",
              "\n",
              "        const docLinkHtml = 'Like what you see? Visit the ' +\n",
              "          '<a target=\"_blank\" href=https://colab.research.google.com/notebooks/data_table.ipynb>data table notebook</a>'\n",
              "          + ' to learn more about interactive tables.';\n",
              "        element.innerHTML = '';\n",
              "        dataTable['output_type'] = 'display_data';\n",
              "        await google.colab.output.renderOutput(dataTable, element);\n",
              "        const docLink = document.createElement('div');\n",
              "        docLink.innerHTML = docLinkHtml;\n",
              "        element.appendChild(docLink);\n",
              "      }\n",
              "    </script>\n",
              "  </div>\n",
              "\n",
              "\n",
              "<div id=\"df-cf8278bc-6311-4898-9f0f-ab874c917fd7\">\n",
              "  <button class=\"colab-df-quickchart\" onclick=\"quickchart('df-cf8278bc-6311-4898-9f0f-ab874c917fd7')\"\n",
              "            title=\"Suggest charts\"\n",
              "            style=\"display:none;\">\n",
              "\n",
              "<svg xmlns=\"http://www.w3.org/2000/svg\" height=\"24px\"viewBox=\"0 0 24 24\"\n",
              "     width=\"24px\">\n",
              "    <g>\n",
              "        <path d=\"M19 3H5c-1.1 0-2 .9-2 2v14c0 1.1.9 2 2 2h14c1.1 0 2-.9 2-2V5c0-1.1-.9-2-2-2zM9 17H7v-7h2v7zm4 0h-2V7h2v10zm4 0h-2v-4h2v4z\"/>\n",
              "    </g>\n",
              "</svg>\n",
              "  </button>\n",
              "\n",
              "<style>\n",
              "  .colab-df-quickchart {\n",
              "      --bg-color: #E8F0FE;\n",
              "      --fill-color: #1967D2;\n",
              "      --hover-bg-color: #E2EBFA;\n",
              "      --hover-fill-color: #174EA6;\n",
              "      --disabled-fill-color: #AAA;\n",
              "      --disabled-bg-color: #DDD;\n",
              "  }\n",
              "\n",
              "  [theme=dark] .colab-df-quickchart {\n",
              "      --bg-color: #3B4455;\n",
              "      --fill-color: #D2E3FC;\n",
              "      --hover-bg-color: #434B5C;\n",
              "      --hover-fill-color: #FFFFFF;\n",
              "      --disabled-bg-color: #3B4455;\n",
              "      --disabled-fill-color: #666;\n",
              "  }\n",
              "\n",
              "  .colab-df-quickchart {\n",
              "    background-color: var(--bg-color);\n",
              "    border: none;\n",
              "    border-radius: 50%;\n",
              "    cursor: pointer;\n",
              "    display: none;\n",
              "    fill: var(--fill-color);\n",
              "    height: 32px;\n",
              "    padding: 0;\n",
              "    width: 32px;\n",
              "  }\n",
              "\n",
              "  .colab-df-quickchart:hover {\n",
              "    background-color: var(--hover-bg-color);\n",
              "    box-shadow: 0 1px 2px rgba(60, 64, 67, 0.3), 0 1px 3px 1px rgba(60, 64, 67, 0.15);\n",
              "    fill: var(--button-hover-fill-color);\n",
              "  }\n",
              "\n",
              "  .colab-df-quickchart-complete:disabled,\n",
              "  .colab-df-quickchart-complete:disabled:hover {\n",
              "    background-color: var(--disabled-bg-color);\n",
              "    fill: var(--disabled-fill-color);\n",
              "    box-shadow: none;\n",
              "  }\n",
              "\n",
              "  .colab-df-spinner {\n",
              "    border: 2px solid var(--fill-color);\n",
              "    border-color: transparent;\n",
              "    border-bottom-color: var(--fill-color);\n",
              "    animation:\n",
              "      spin 1s steps(1) infinite;\n",
              "  }\n",
              "\n",
              "  @keyframes spin {\n",
              "    0% {\n",
              "      border-color: transparent;\n",
              "      border-bottom-color: var(--fill-color);\n",
              "      border-left-color: var(--fill-color);\n",
              "    }\n",
              "    20% {\n",
              "      border-color: transparent;\n",
              "      border-left-color: var(--fill-color);\n",
              "      border-top-color: var(--fill-color);\n",
              "    }\n",
              "    30% {\n",
              "      border-color: transparent;\n",
              "      border-left-color: var(--fill-color);\n",
              "      border-top-color: var(--fill-color);\n",
              "      border-right-color: var(--fill-color);\n",
              "    }\n",
              "    40% {\n",
              "      border-color: transparent;\n",
              "      border-right-color: var(--fill-color);\n",
              "      border-top-color: var(--fill-color);\n",
              "    }\n",
              "    60% {\n",
              "      border-color: transparent;\n",
              "      border-right-color: var(--fill-color);\n",
              "    }\n",
              "    80% {\n",
              "      border-color: transparent;\n",
              "      border-right-color: var(--fill-color);\n",
              "      border-bottom-color: var(--fill-color);\n",
              "    }\n",
              "    90% {\n",
              "      border-color: transparent;\n",
              "      border-bottom-color: var(--fill-color);\n",
              "    }\n",
              "  }\n",
              "</style>\n",
              "\n",
              "  <script>\n",
              "    async function quickchart(key) {\n",
              "      const quickchartButtonEl =\n",
              "        document.querySelector('#' + key + ' button');\n",
              "      quickchartButtonEl.disabled = true;  // To prevent multiple clicks.\n",
              "      quickchartButtonEl.classList.add('colab-df-spinner');\n",
              "      try {\n",
              "        const charts = await google.colab.kernel.invokeFunction(\n",
              "            'suggestCharts', [key], {});\n",
              "      } catch (error) {\n",
              "        console.error('Error during call to suggestCharts:', error);\n",
              "      }\n",
              "      quickchartButtonEl.classList.remove('colab-df-spinner');\n",
              "      quickchartButtonEl.classList.add('colab-df-quickchart-complete');\n",
              "    }\n",
              "    (() => {\n",
              "      let quickchartButtonEl =\n",
              "        document.querySelector('#df-cf8278bc-6311-4898-9f0f-ab874c917fd7 button');\n",
              "      quickchartButtonEl.style.display =\n",
              "        google.colab.kernel.accessAllowed ? 'block' : 'none';\n",
              "    })();\n",
              "  </script>\n",
              "</div>\n",
              "\n",
              "  <div id=\"id_c26e1a24-006b-490e-b129-9288e92831bd\">\n",
              "    <style>\n",
              "      .colab-df-generate {\n",
              "        background-color: #E8F0FE;\n",
              "        border: none;\n",
              "        border-radius: 50%;\n",
              "        cursor: pointer;\n",
              "        display: none;\n",
              "        fill: #1967D2;\n",
              "        height: 32px;\n",
              "        padding: 0 0 0 0;\n",
              "        width: 32px;\n",
              "      }\n",
              "\n",
              "      .colab-df-generate:hover {\n",
              "        background-color: #E2EBFA;\n",
              "        box-shadow: 0px 1px 2px rgba(60, 64, 67, 0.3), 0px 1px 3px 1px rgba(60, 64, 67, 0.15);\n",
              "        fill: #174EA6;\n",
              "      }\n",
              "\n",
              "      [theme=dark] .colab-df-generate {\n",
              "        background-color: #3B4455;\n",
              "        fill: #D2E3FC;\n",
              "      }\n",
              "\n",
              "      [theme=dark] .colab-df-generate:hover {\n",
              "        background-color: #434B5C;\n",
              "        box-shadow: 0px 1px 3px 1px rgba(0, 0, 0, 0.15);\n",
              "        filter: drop-shadow(0px 1px 2px rgba(0, 0, 0, 0.3));\n",
              "        fill: #FFFFFF;\n",
              "      }\n",
              "    </style>\n",
              "    <button class=\"colab-df-generate\" onclick=\"generateWithVariable('df')\"\n",
              "            title=\"Generate code using this dataframe.\"\n",
              "            style=\"display:none;\">\n",
              "\n",
              "  <svg xmlns=\"http://www.w3.org/2000/svg\" height=\"24px\"viewBox=\"0 0 24 24\"\n",
              "       width=\"24px\">\n",
              "    <path d=\"M7,19H8.4L18.45,9,17,7.55,7,17.6ZM5,21V16.75L18.45,3.32a2,2,0,0,1,2.83,0l1.4,1.43a1.91,1.91,0,0,1,.58,1.4,1.91,1.91,0,0,1-.58,1.4L9.25,21ZM18.45,9,17,7.55Zm-12,3A5.31,5.31,0,0,0,4.9,8.1,5.31,5.31,0,0,0,1,6.5,5.31,5.31,0,0,0,4.9,4.9,5.31,5.31,0,0,0,6.5,1,5.31,5.31,0,0,0,8.1,4.9,5.31,5.31,0,0,0,12,6.5,5.46,5.46,0,0,0,6.5,12Z\"/>\n",
              "  </svg>\n",
              "    </button>\n",
              "    <script>\n",
              "      (() => {\n",
              "      const buttonEl =\n",
              "        document.querySelector('#id_c26e1a24-006b-490e-b129-9288e92831bd button.colab-df-generate');\n",
              "      buttonEl.style.display =\n",
              "        google.colab.kernel.accessAllowed ? 'block' : 'none';\n",
              "\n",
              "      buttonEl.onclick = () => {\n",
              "        google.colab.notebook.generateWithVariable('df');\n",
              "      }\n",
              "      })();\n",
              "    </script>\n",
              "  </div>\n",
              "\n",
              "    </div>\n",
              "  </div>\n"
            ]
          },
          "metadata": {},
          "execution_count": 3
        }
      ]
    },
    {
      "cell_type": "markdown",
      "source": [
        "Explore data"
      ],
      "metadata": {
        "id": "3PTQbQSR3CN0"
      }
    },
    {
      "cell_type": "code",
      "source": [
        "df.shape"
      ],
      "metadata": {
        "colab": {
          "base_uri": "https://localhost:8080/"
        },
        "id": "YWtae6Yb3B6j",
        "outputId": "f3fddd09-55ea-4621-df29-d85f1b316840"
      },
      "execution_count": 4,
      "outputs": [
        {
          "output_type": "execute_result",
          "data": {
            "text/plain": [
              "(7043, 21)"
            ]
          },
          "metadata": {},
          "execution_count": 4
        }
      ]
    },
    {
      "cell_type": "code",
      "source": [
        "#missing values\n",
        "missing= df.isnull().sum()\n",
        "missing"
      ],
      "metadata": {
        "colab": {
          "base_uri": "https://localhost:8080/"
        },
        "id": "GXrqj8Hvw8Gb",
        "outputId": "69523c73-4522-4820-d677-3ab3952e9d97"
      },
      "execution_count": 5,
      "outputs": [
        {
          "output_type": "execute_result",
          "data": {
            "text/plain": [
              "customerID          0\n",
              "gender              0\n",
              "SeniorCitizen       0\n",
              "Partner             0\n",
              "Dependents          0\n",
              "tenure              0\n",
              "PhoneService        0\n",
              "MultipleLines       0\n",
              "InternetService     0\n",
              "OnlineSecurity      0\n",
              "OnlineBackup        0\n",
              "DeviceProtection    0\n",
              "TechSupport         0\n",
              "StreamingTV         0\n",
              "StreamingMovies     0\n",
              "Contract            0\n",
              "PaperlessBilling    0\n",
              "PaymentMethod       0\n",
              "MonthlyCharges      0\n",
              "TotalCharges        0\n",
              "Churn               0\n",
              "dtype: int64"
            ]
          },
          "metadata": {},
          "execution_count": 5
        }
      ]
    },
    {
      "cell_type": "code",
      "source": [
        "df.info()"
      ],
      "metadata": {
        "colab": {
          "base_uri": "https://localhost:8080/"
        },
        "id": "SuoN3AUmwzka",
        "outputId": "d423e131-23e8-42e8-ab23-a9c605142dcb"
      },
      "execution_count": 6,
      "outputs": [
        {
          "output_type": "stream",
          "name": "stdout",
          "text": [
            "<class 'pandas.core.frame.DataFrame'>\n",
            "RangeIndex: 7043 entries, 0 to 7042\n",
            "Data columns (total 21 columns):\n",
            " #   Column            Non-Null Count  Dtype  \n",
            "---  ------            --------------  -----  \n",
            " 0   customerID        7043 non-null   object \n",
            " 1   gender            7043 non-null   object \n",
            " 2   SeniorCitizen     7043 non-null   int64  \n",
            " 3   Partner           7043 non-null   object \n",
            " 4   Dependents        7043 non-null   object \n",
            " 5   tenure            7043 non-null   int64  \n",
            " 6   PhoneService      7043 non-null   object \n",
            " 7   MultipleLines     7043 non-null   object \n",
            " 8   InternetService   7043 non-null   object \n",
            " 9   OnlineSecurity    7043 non-null   object \n",
            " 10  OnlineBackup      7043 non-null   object \n",
            " 11  DeviceProtection  7043 non-null   object \n",
            " 12  TechSupport       7043 non-null   object \n",
            " 13  StreamingTV       7043 non-null   object \n",
            " 14  StreamingMovies   7043 non-null   object \n",
            " 15  Contract          7043 non-null   object \n",
            " 16  PaperlessBilling  7043 non-null   object \n",
            " 17  PaymentMethod     7043 non-null   object \n",
            " 18  MonthlyCharges    7043 non-null   float64\n",
            " 19  TotalCharges      7043 non-null   object \n",
            " 20  Churn             7043 non-null   object \n",
            "dtypes: float64(1), int64(2), object(18)\n",
            "memory usage: 1.1+ MB\n"
          ]
        }
      ]
    },
    {
      "cell_type": "code",
      "source": [
        "df['SeniorCitizen'].unique()"
      ],
      "metadata": {
        "colab": {
          "base_uri": "https://localhost:8080/"
        },
        "id": "ZZNqHJa03l8M",
        "outputId": "c1c6f393-c789-45fd-a4e9-a8ba9a07f38c"
      },
      "execution_count": 7,
      "outputs": [
        {
          "output_type": "execute_result",
          "data": {
            "text/plain": [
              "array([0, 1])"
            ]
          },
          "metadata": {},
          "execution_count": 7
        }
      ]
    },
    {
      "cell_type": "code",
      "source": [
        "df['TotalCharges'].unique()"
      ],
      "metadata": {
        "colab": {
          "base_uri": "https://localhost:8080/"
        },
        "id": "IToGSOa054dq",
        "outputId": "9039923a-d240-43e3-a024-e2434e7150da"
      },
      "execution_count": 8,
      "outputs": [
        {
          "output_type": "execute_result",
          "data": {
            "text/plain": [
              "array(['29.85', '1889.5', '108.15', ..., '346.45', '306.6', '6844.5'],\n",
              "      dtype=object)"
            ]
          },
          "metadata": {},
          "execution_count": 8
        }
      ]
    },
    {
      "cell_type": "code",
      "source": [
        "df.duplicated().sum()"
      ],
      "metadata": {
        "colab": {
          "base_uri": "https://localhost:8080/"
        },
        "id": "H9NbYTl16Rxj",
        "outputId": "7975bd38-b8b0-4c9f-c340-66e2ae85e34d"
      },
      "execution_count": 9,
      "outputs": [
        {
          "output_type": "execute_result",
          "data": {
            "text/plain": [
              "0"
            ]
          },
          "metadata": {},
          "execution_count": 9
        }
      ]
    },
    {
      "cell_type": "code",
      "source": [
        "df.describe()"
      ],
      "metadata": {
        "colab": {
          "base_uri": "https://localhost:8080/",
          "height": 300
        },
        "id": "Vs0x1CuI3XBx",
        "outputId": "49f6dbc1-8bf2-440c-bf66-062b39ff128c"
      },
      "execution_count": 10,
      "outputs": [
        {
          "output_type": "execute_result",
          "data": {
            "text/plain": [
              "       SeniorCitizen       tenure  MonthlyCharges\n",
              "count    7043.000000  7043.000000     7043.000000\n",
              "mean        0.162147    32.371149       64.761692\n",
              "std         0.368612    24.559481       30.090047\n",
              "min         0.000000     0.000000       18.250000\n",
              "25%         0.000000     9.000000       35.500000\n",
              "50%         0.000000    29.000000       70.350000\n",
              "75%         0.000000    55.000000       89.850000\n",
              "max         1.000000    72.000000      118.750000"
            ],
            "text/html": [
              "\n",
              "  <div id=\"df-8174f5bb-0a05-4ca9-9a28-676a68c8a990\" class=\"colab-df-container\">\n",
              "    <div>\n",
              "<style scoped>\n",
              "    .dataframe tbody tr th:only-of-type {\n",
              "        vertical-align: middle;\n",
              "    }\n",
              "\n",
              "    .dataframe tbody tr th {\n",
              "        vertical-align: top;\n",
              "    }\n",
              "\n",
              "    .dataframe thead th {\n",
              "        text-align: right;\n",
              "    }\n",
              "</style>\n",
              "<table border=\"1\" class=\"dataframe\">\n",
              "  <thead>\n",
              "    <tr style=\"text-align: right;\">\n",
              "      <th></th>\n",
              "      <th>SeniorCitizen</th>\n",
              "      <th>tenure</th>\n",
              "      <th>MonthlyCharges</th>\n",
              "    </tr>\n",
              "  </thead>\n",
              "  <tbody>\n",
              "    <tr>\n",
              "      <th>count</th>\n",
              "      <td>7043.000000</td>\n",
              "      <td>7043.000000</td>\n",
              "      <td>7043.000000</td>\n",
              "    </tr>\n",
              "    <tr>\n",
              "      <th>mean</th>\n",
              "      <td>0.162147</td>\n",
              "      <td>32.371149</td>\n",
              "      <td>64.761692</td>\n",
              "    </tr>\n",
              "    <tr>\n",
              "      <th>std</th>\n",
              "      <td>0.368612</td>\n",
              "      <td>24.559481</td>\n",
              "      <td>30.090047</td>\n",
              "    </tr>\n",
              "    <tr>\n",
              "      <th>min</th>\n",
              "      <td>0.000000</td>\n",
              "      <td>0.000000</td>\n",
              "      <td>18.250000</td>\n",
              "    </tr>\n",
              "    <tr>\n",
              "      <th>25%</th>\n",
              "      <td>0.000000</td>\n",
              "      <td>9.000000</td>\n",
              "      <td>35.500000</td>\n",
              "    </tr>\n",
              "    <tr>\n",
              "      <th>50%</th>\n",
              "      <td>0.000000</td>\n",
              "      <td>29.000000</td>\n",
              "      <td>70.350000</td>\n",
              "    </tr>\n",
              "    <tr>\n",
              "      <th>75%</th>\n",
              "      <td>0.000000</td>\n",
              "      <td>55.000000</td>\n",
              "      <td>89.850000</td>\n",
              "    </tr>\n",
              "    <tr>\n",
              "      <th>max</th>\n",
              "      <td>1.000000</td>\n",
              "      <td>72.000000</td>\n",
              "      <td>118.750000</td>\n",
              "    </tr>\n",
              "  </tbody>\n",
              "</table>\n",
              "</div>\n",
              "    <div class=\"colab-df-buttons\">\n",
              "\n",
              "  <div class=\"colab-df-container\">\n",
              "    <button class=\"colab-df-convert\" onclick=\"convertToInteractive('df-8174f5bb-0a05-4ca9-9a28-676a68c8a990')\"\n",
              "            title=\"Convert this dataframe to an interactive table.\"\n",
              "            style=\"display:none;\">\n",
              "\n",
              "  <svg xmlns=\"http://www.w3.org/2000/svg\" height=\"24px\" viewBox=\"0 -960 960 960\">\n",
              "    <path d=\"M120-120v-720h720v720H120Zm60-500h600v-160H180v160Zm220 220h160v-160H400v160Zm0 220h160v-160H400v160ZM180-400h160v-160H180v160Zm440 0h160v-160H620v160ZM180-180h160v-160H180v160Zm440 0h160v-160H620v160Z\"/>\n",
              "  </svg>\n",
              "    </button>\n",
              "\n",
              "  <style>\n",
              "    .colab-df-container {\n",
              "      display:flex;\n",
              "      gap: 12px;\n",
              "    }\n",
              "\n",
              "    .colab-df-convert {\n",
              "      background-color: #E8F0FE;\n",
              "      border: none;\n",
              "      border-radius: 50%;\n",
              "      cursor: pointer;\n",
              "      display: none;\n",
              "      fill: #1967D2;\n",
              "      height: 32px;\n",
              "      padding: 0 0 0 0;\n",
              "      width: 32px;\n",
              "    }\n",
              "\n",
              "    .colab-df-convert:hover {\n",
              "      background-color: #E2EBFA;\n",
              "      box-shadow: 0px 1px 2px rgba(60, 64, 67, 0.3), 0px 1px 3px 1px rgba(60, 64, 67, 0.15);\n",
              "      fill: #174EA6;\n",
              "    }\n",
              "\n",
              "    .colab-df-buttons div {\n",
              "      margin-bottom: 4px;\n",
              "    }\n",
              "\n",
              "    [theme=dark] .colab-df-convert {\n",
              "      background-color: #3B4455;\n",
              "      fill: #D2E3FC;\n",
              "    }\n",
              "\n",
              "    [theme=dark] .colab-df-convert:hover {\n",
              "      background-color: #434B5C;\n",
              "      box-shadow: 0px 1px 3px 1px rgba(0, 0, 0, 0.15);\n",
              "      filter: drop-shadow(0px 1px 2px rgba(0, 0, 0, 0.3));\n",
              "      fill: #FFFFFF;\n",
              "    }\n",
              "  </style>\n",
              "\n",
              "    <script>\n",
              "      const buttonEl =\n",
              "        document.querySelector('#df-8174f5bb-0a05-4ca9-9a28-676a68c8a990 button.colab-df-convert');\n",
              "      buttonEl.style.display =\n",
              "        google.colab.kernel.accessAllowed ? 'block' : 'none';\n",
              "\n",
              "      async function convertToInteractive(key) {\n",
              "        const element = document.querySelector('#df-8174f5bb-0a05-4ca9-9a28-676a68c8a990');\n",
              "        const dataTable =\n",
              "          await google.colab.kernel.invokeFunction('convertToInteractive',\n",
              "                                                    [key], {});\n",
              "        if (!dataTable) return;\n",
              "\n",
              "        const docLinkHtml = 'Like what you see? Visit the ' +\n",
              "          '<a target=\"_blank\" href=https://colab.research.google.com/notebooks/data_table.ipynb>data table notebook</a>'\n",
              "          + ' to learn more about interactive tables.';\n",
              "        element.innerHTML = '';\n",
              "        dataTable['output_type'] = 'display_data';\n",
              "        await google.colab.output.renderOutput(dataTable, element);\n",
              "        const docLink = document.createElement('div');\n",
              "        docLink.innerHTML = docLinkHtml;\n",
              "        element.appendChild(docLink);\n",
              "      }\n",
              "    </script>\n",
              "  </div>\n",
              "\n",
              "\n",
              "<div id=\"df-1074e2d1-81bc-49d6-9a1c-4e3d6bb1cc49\">\n",
              "  <button class=\"colab-df-quickchart\" onclick=\"quickchart('df-1074e2d1-81bc-49d6-9a1c-4e3d6bb1cc49')\"\n",
              "            title=\"Suggest charts\"\n",
              "            style=\"display:none;\">\n",
              "\n",
              "<svg xmlns=\"http://www.w3.org/2000/svg\" height=\"24px\"viewBox=\"0 0 24 24\"\n",
              "     width=\"24px\">\n",
              "    <g>\n",
              "        <path d=\"M19 3H5c-1.1 0-2 .9-2 2v14c0 1.1.9 2 2 2h14c1.1 0 2-.9 2-2V5c0-1.1-.9-2-2-2zM9 17H7v-7h2v7zm4 0h-2V7h2v10zm4 0h-2v-4h2v4z\"/>\n",
              "    </g>\n",
              "</svg>\n",
              "  </button>\n",
              "\n",
              "<style>\n",
              "  .colab-df-quickchart {\n",
              "      --bg-color: #E8F0FE;\n",
              "      --fill-color: #1967D2;\n",
              "      --hover-bg-color: #E2EBFA;\n",
              "      --hover-fill-color: #174EA6;\n",
              "      --disabled-fill-color: #AAA;\n",
              "      --disabled-bg-color: #DDD;\n",
              "  }\n",
              "\n",
              "  [theme=dark] .colab-df-quickchart {\n",
              "      --bg-color: #3B4455;\n",
              "      --fill-color: #D2E3FC;\n",
              "      --hover-bg-color: #434B5C;\n",
              "      --hover-fill-color: #FFFFFF;\n",
              "      --disabled-bg-color: #3B4455;\n",
              "      --disabled-fill-color: #666;\n",
              "  }\n",
              "\n",
              "  .colab-df-quickchart {\n",
              "    background-color: var(--bg-color);\n",
              "    border: none;\n",
              "    border-radius: 50%;\n",
              "    cursor: pointer;\n",
              "    display: none;\n",
              "    fill: var(--fill-color);\n",
              "    height: 32px;\n",
              "    padding: 0;\n",
              "    width: 32px;\n",
              "  }\n",
              "\n",
              "  .colab-df-quickchart:hover {\n",
              "    background-color: var(--hover-bg-color);\n",
              "    box-shadow: 0 1px 2px rgba(60, 64, 67, 0.3), 0 1px 3px 1px rgba(60, 64, 67, 0.15);\n",
              "    fill: var(--button-hover-fill-color);\n",
              "  }\n",
              "\n",
              "  .colab-df-quickchart-complete:disabled,\n",
              "  .colab-df-quickchart-complete:disabled:hover {\n",
              "    background-color: var(--disabled-bg-color);\n",
              "    fill: var(--disabled-fill-color);\n",
              "    box-shadow: none;\n",
              "  }\n",
              "\n",
              "  .colab-df-spinner {\n",
              "    border: 2px solid var(--fill-color);\n",
              "    border-color: transparent;\n",
              "    border-bottom-color: var(--fill-color);\n",
              "    animation:\n",
              "      spin 1s steps(1) infinite;\n",
              "  }\n",
              "\n",
              "  @keyframes spin {\n",
              "    0% {\n",
              "      border-color: transparent;\n",
              "      border-bottom-color: var(--fill-color);\n",
              "      border-left-color: var(--fill-color);\n",
              "    }\n",
              "    20% {\n",
              "      border-color: transparent;\n",
              "      border-left-color: var(--fill-color);\n",
              "      border-top-color: var(--fill-color);\n",
              "    }\n",
              "    30% {\n",
              "      border-color: transparent;\n",
              "      border-left-color: var(--fill-color);\n",
              "      border-top-color: var(--fill-color);\n",
              "      border-right-color: var(--fill-color);\n",
              "    }\n",
              "    40% {\n",
              "      border-color: transparent;\n",
              "      border-right-color: var(--fill-color);\n",
              "      border-top-color: var(--fill-color);\n",
              "    }\n",
              "    60% {\n",
              "      border-color: transparent;\n",
              "      border-right-color: var(--fill-color);\n",
              "    }\n",
              "    80% {\n",
              "      border-color: transparent;\n",
              "      border-right-color: var(--fill-color);\n",
              "      border-bottom-color: var(--fill-color);\n",
              "    }\n",
              "    90% {\n",
              "      border-color: transparent;\n",
              "      border-bottom-color: var(--fill-color);\n",
              "    }\n",
              "  }\n",
              "</style>\n",
              "\n",
              "  <script>\n",
              "    async function quickchart(key) {\n",
              "      const quickchartButtonEl =\n",
              "        document.querySelector('#' + key + ' button');\n",
              "      quickchartButtonEl.disabled = true;  // To prevent multiple clicks.\n",
              "      quickchartButtonEl.classList.add('colab-df-spinner');\n",
              "      try {\n",
              "        const charts = await google.colab.kernel.invokeFunction(\n",
              "            'suggestCharts', [key], {});\n",
              "      } catch (error) {\n",
              "        console.error('Error during call to suggestCharts:', error);\n",
              "      }\n",
              "      quickchartButtonEl.classList.remove('colab-df-spinner');\n",
              "      quickchartButtonEl.classList.add('colab-df-quickchart-complete');\n",
              "    }\n",
              "    (() => {\n",
              "      let quickchartButtonEl =\n",
              "        document.querySelector('#df-1074e2d1-81bc-49d6-9a1c-4e3d6bb1cc49 button');\n",
              "      quickchartButtonEl.style.display =\n",
              "        google.colab.kernel.accessAllowed ? 'block' : 'none';\n",
              "    })();\n",
              "  </script>\n",
              "</div>\n",
              "\n",
              "    </div>\n",
              "  </div>\n"
            ]
          },
          "metadata": {},
          "execution_count": 10
        }
      ]
    },
    {
      "cell_type": "code",
      "source": [
        "df['SeniorCitizen']=df['SeniorCitizen'].replace(0, 'No')\n",
        "df['SeniorCitizen']=df['SeniorCitizen'].replace(1, 'Yes')\n"
      ],
      "metadata": {
        "id": "3krm48HO8CWt"
      },
      "execution_count": 11,
      "outputs": []
    },
    {
      "cell_type": "code",
      "source": [
        "df['SeniorCitizen'].unique()"
      ],
      "metadata": {
        "colab": {
          "base_uri": "https://localhost:8080/"
        },
        "id": "9rzbLId2-M2x",
        "outputId": "1d50713a-3c5e-4f5f-f9df-197344a35f8c"
      },
      "execution_count": 12,
      "outputs": [
        {
          "output_type": "execute_result",
          "data": {
            "text/plain": [
              "array(['No', 'Yes'], dtype=object)"
            ]
          },
          "metadata": {},
          "execution_count": 12
        }
      ]
    },
    {
      "cell_type": "code",
      "source": [
        "# Check for non-numeric values in the 'TotalCharges' column\n",
        "non_numeric_values = df['TotalCharges'][pd.to_numeric(df['TotalCharges'], errors='coerce').isna()]\n",
        "\n",
        "# Print the non-numeric values\n",
        "print(\"Non-numeric values in 'TotalCharges':\")\n",
        "print(non_numeric_values)\n",
        "\n",
        "# Remove non-numeric values and convert the column to float\n",
        "df['TotalCharges'] = pd.to_numeric(df['TotalCharges'], errors='coerce')\n",
        "\n",
        "# Verify the changes\n",
        "df['TotalCharges'] = df['TotalCharges'].astype(float)\n"
      ],
      "metadata": {
        "colab": {
          "base_uri": "https://localhost:8080/"
        },
        "id": "dmasoWOR9Tab",
        "outputId": "a9eb55ff-317b-4b7f-c21b-7b520c64a187"
      },
      "execution_count": 13,
      "outputs": [
        {
          "output_type": "stream",
          "name": "stdout",
          "text": [
            "Non-numeric values in 'TotalCharges':\n",
            "488      \n",
            "753      \n",
            "936      \n",
            "1082     \n",
            "1340     \n",
            "3331     \n",
            "3826     \n",
            "4380     \n",
            "5218     \n",
            "6670     \n",
            "6754     \n",
            "Name: TotalCharges, dtype: object\n"
          ]
        }
      ]
    },
    {
      "cell_type": "code",
      "source": [
        "df['TotalCharges'].isnull().sum()"
      ],
      "metadata": {
        "colab": {
          "base_uri": "https://localhost:8080/"
        },
        "id": "7kjtrDLXFZtx",
        "outputId": "7d121a17-5bb8-4536-a63d-cb44b56aef89"
      },
      "execution_count": 14,
      "outputs": [
        {
          "output_type": "execute_result",
          "data": {
            "text/plain": [
              "11"
            ]
          },
          "metadata": {},
          "execution_count": 14
        }
      ]
    },
    {
      "cell_type": "markdown",
      "source": [
        "missing values are so small compared to the ratio of data size and were lost completely at random hence dropping will not affect the analysis"
      ],
      "metadata": {
        "id": "hI3eMJV9Fn0I"
      }
    },
    {
      "cell_type": "code",
      "source": [
        "df.dropna(subset ='TotalCharges', inplace =True)"
      ],
      "metadata": {
        "id": "l2s5h6slGNuV"
      },
      "execution_count": 15,
      "outputs": []
    },
    {
      "cell_type": "code",
      "source": [
        "df['TotalCharges'].isnull().sum()"
      ],
      "metadata": {
        "colab": {
          "base_uri": "https://localhost:8080/"
        },
        "id": "yGmjVEu9GXTh",
        "outputId": "af67a10f-7532-4ea0-a808-5381fac17c35"
      },
      "execution_count": 16,
      "outputs": [
        {
          "output_type": "execute_result",
          "data": {
            "text/plain": [
              "0"
            ]
          },
          "metadata": {},
          "execution_count": 16
        }
      ]
    },
    {
      "cell_type": "code",
      "source": [
        "df['TotalCharges'].describe()"
      ],
      "metadata": {
        "colab": {
          "base_uri": "https://localhost:8080/"
        },
        "id": "ERH_Dh-VFN3B",
        "outputId": "5c1d6dc9-c6ce-497b-9ce4-d448582d88ea"
      },
      "execution_count": 17,
      "outputs": [
        {
          "output_type": "execute_result",
          "data": {
            "text/plain": [
              "count    7032.000000\n",
              "mean     2283.300441\n",
              "std      2266.771362\n",
              "min        18.800000\n",
              "25%       401.450000\n",
              "50%      1397.475000\n",
              "75%      3794.737500\n",
              "max      8684.800000\n",
              "Name: TotalCharges, dtype: float64"
            ]
          },
          "metadata": {},
          "execution_count": 17
        }
      ]
    },
    {
      "cell_type": "markdown",
      "source": [
        "explore outliers in total charges"
      ],
      "metadata": {
        "id": "qOt9qYVrG42b"
      }
    },
    {
      "cell_type": "code",
      "source": [
        "sns.histplot(df['TotalCharges'])"
      ],
      "metadata": {
        "colab": {
          "base_uri": "https://localhost:8080/",
          "height": 466
        },
        "id": "Z3JWpLSqG8v_",
        "outputId": "94ec772a-5460-40c5-a37a-3ee0c6ffcc6b"
      },
      "execution_count": 18,
      "outputs": [
        {
          "output_type": "execute_result",
          "data": {
            "text/plain": [
              "<Axes: xlabel='TotalCharges', ylabel='Count'>"
            ]
          },
          "metadata": {},
          "execution_count": 18
        },
        {
          "output_type": "display_data",
          "data": {
            "text/plain": [
              "<Figure size 640x480 with 1 Axes>"
            ],
            "image/png": "[encoded data removed]"
          },
          "metadata": {}
        }
      ]
    },
    {
      "cell_type": "markdown",
      "source": [
        "#Insight\n",
        "From the graph we can see that our customer base is in the first segmentation  and it decreases as the income rises. it follows a  skewed distribution"
      ],
      "metadata": {
        "id": "S67nEop4J_um"
      }
    },
    {
      "cell_type": "code",
      "source": [
        "plt.boxplot(df['TotalCharges'])"
      ],
      "metadata": {
        "colab": {
          "base_uri": "https://localhost:8080/",
          "height": 569
        },
        "id": "d6KiBx_HHopW",
        "outputId": "8bc423d7-34b0-4091-fb9c-99368e1448a7"
      },
      "execution_count": 19,
      "outputs": [
        {
          "output_type": "execute_result",
          "data": {
            "text/plain": [
              "{'whiskers': [<matplotlib.lines.Line2D at 0x7c3fd55cea40>,\n",
              "  <matplotlib.lines.Line2D at 0x7c3fd55cece0>],\n",
              " 'caps': [<matplotlib.lines.Line2D at 0x7c3fd55cef80>,\n",
              "  <matplotlib.lines.Line2D at 0x7c3fd55cf220>],\n",
              " 'boxes': [<matplotlib.lines.Line2D at 0x7c3fd55ce7a0>],\n",
              " 'medians': [<matplotlib.lines.Line2D at 0x7c3fd55cf4c0>],\n",
              " 'fliers': [<matplotlib.lines.Line2D at 0x7c3fd55cf760>],\n",
              " 'means': []}"
            ]
          },
          "metadata": {},
          "execution_count": 19
        },
        {
          "output_type": "display_data",
          "data": {
            "text/plain": [
              "<Figure size 640x480 with 1 Axes>"
            ],
            "image/png": "[encoded data removed]"
          },
          "metadata": {}
        }
      ]
    },
    {
      "cell_type": "code",
      "source": [
        "sns.violinplot(df['TotalCharges'])"
      ],
      "metadata": {
        "colab": {
          "base_uri": "https://localhost:8080/",
          "height": 428
        },
        "id": "F6HvabT4Hp7P",
        "outputId": "b3af8e90-6ab0-4886-bc85-7b2ed0943099"
      },
      "execution_count": 20,
      "outputs": [
        {
          "output_type": "execute_result",
          "data": {
            "text/plain": [
              "<Axes: ylabel='TotalCharges'>"
            ]
          },
          "metadata": {},
          "execution_count": 20
        },
        {
          "output_type": "display_data",
          "data": {
            "text/plain": [
              "<Figure size 640x480 with 1 Axes>"
            ],
            "image/png": "[encoded data removed]"
          },
          "metadata": {}
        }
      ]
    },
    {
      "cell_type": "code",
      "source": [
        "df.columns"
      ],
      "metadata": {
        "colab": {
          "base_uri": "https://localhost:8080/"
        },
        "id": "W_fZ7xXpNWK9",
        "outputId": "6c57672a-a02c-4364-f8ca-375027bd153a"
      },
      "execution_count": 21,
      "outputs": [
        {
          "output_type": "execute_result",
          "data": {
            "text/plain": [
              "Index(['customerID', 'gender', 'SeniorCitizen', 'Partner', 'Dependents',\n",
              "       'tenure', 'PhoneService', 'MultipleLines', 'InternetService',\n",
              "       'OnlineSecurity', 'OnlineBackup', 'DeviceProtection', 'TechSupport',\n",
              "       'StreamingTV', 'StreamingMovies', 'Contract', 'PaperlessBilling',\n",
              "       'PaymentMethod', 'MonthlyCharges', 'TotalCharges', 'Churn'],\n",
              "      dtype='object')"
            ]
          },
          "metadata": {},
          "execution_count": 21
        }
      ]
    },
    {
      "cell_type": "code",
      "source": [
        "#overall churn rate in company?\n",
        "churn_rate= df['Churn'].value_counts()\n",
        "plt.pie(churn_rate.values, labels=churn_rate.index, autopct= '%1.1f%%')\n",
        "plt.title('Overall Churn rate')\n",
        "plt.show()"
      ],
      "metadata": {
        "colab": {
          "base_uri": "https://localhost:8080/",
          "height": 428
        },
        "id": "szclWsk3N0Up",
        "outputId": "e10474aa-69be-4f31-fe55-d489361ecb80"
      },
      "execution_count": 22,
      "outputs": [
        {
          "output_type": "display_data",
          "data": {
            "text/plain": [
              "<Figure size 640x480 with 1 Axes>"
            ],
            "image/png": "[encoded data removed]"
          },
          "metadata": {}
        }
      ]
    },
    {
      "cell_type": "markdown",
      "source": [
        "#Insight\n",
        "About 26.6% of the customer base left in the last month."
      ],
      "metadata": {
        "id": "wQUHXWpxPrVa"
      }
    },
    {
      "cell_type": "code",
      "source": [
        "#gender ratio in company\n",
        "gender_rate= df['gender'].value_counts()\n",
        "plt.pie(gender_rate.values, labels=gender_rate.index,colors=['skyblue', 'pink'], autopct= '%1.1f%%')\n",
        "\n",
        "\n",
        "my_circle=plt.Circle((0,0),0.50, color ='White')\n",
        "p=plt.gcf()\n",
        "p.gca().add_artist(my_circle)\n",
        "plt.title('Gender ratio in company')\n",
        "plt.show()"
      ],
      "metadata": {
        "colab": {
          "base_uri": "https://localhost:8080/",
          "height": 428
        },
        "id": "gGWwnOnhWHMp",
        "outputId": "85c49aa0-e7ae-42c6-b00f-2649227eb93b"
      },
      "execution_count": 23,
      "outputs": [
        {
          "output_type": "display_data",
          "data": {
            "text/plain": [
              "<Figure size 640x480 with 1 Axes>"
            ],
            "image/png": "[encoded data removed]"
          },
          "metadata": {}
        }
      ]
    },
    {
      "cell_type": "markdown",
      "source": [
        "#Gender difference in churn rate"
      ],
      "metadata": {
        "id": "bIP2stH_QUs7"
      }
    },
    {
      "cell_type": "code",
      "source": [
        "sns.countplot( x='gender', hue ='Churn', data =df)\n",
        "plt.title('Gender vs Churn')\n"
      ],
      "metadata": {
        "colab": {
          "base_uri": "https://localhost:8080/",
          "height": 489
        },
        "id": "lDhTHk4cQcQz",
        "outputId": "09ff3d0b-1e89-407a-8c68-e6464194a81b"
      },
      "execution_count": 24,
      "outputs": [
        {
          "output_type": "execute_result",
          "data": {
            "text/plain": [
              "Text(0.5, 1.0, 'Gender vs Churn')"
            ]
          },
          "metadata": {},
          "execution_count": 24
        },
        {
          "output_type": "display_data",
          "data": {
            "text/plain": [
              "<Figure size 640x480 with 1 Axes>"
            ],
            "image/png": "[encoded data removed]"
          },
          "metadata": {}
        }
      ]
    },
    {
      "cell_type": "markdown",
      "source": [
        "#Insight\n",
        "there is no significance relationship between gender and churn rate"
      ],
      "metadata": {
        "id": "q87ygwRZSPko"
      }
    },
    {
      "cell_type": "markdown",
      "source": [
        "### Does being a senior citizen affect the likelihood of churning?"
      ],
      "metadata": {
        "id": "wwMg2ikIZ8mp"
      }
    },
    {
      "cell_type": "code",
      "source": [
        "#checking the ratio of senior citizens in company\n",
        "senior_rate= df['SeniorCitizen'].value_counts()\n",
        "plt.pie(senior_rate.values, labels=senior_rate.index,colors=['skyblue', 'pink'], autopct= '%1.1f%%')\n",
        "\n",
        "\n",
        "my_circle=plt.Circle((0,0),0.50, color ='White')\n",
        "p=plt.gcf()\n",
        "p.gca().add_artist(my_circle)\n",
        "plt.title('senior ratio in company')\n",
        "plt.show()"
      ],
      "metadata": {
        "colab": {
          "base_uri": "https://localhost:8080/",
          "height": 428
        },
        "id": "4a24lwo9eBVU",
        "outputId": "e532797e-9fe3-4f57-bbc1-2a29ed4de356"
      },
      "execution_count": 25,
      "outputs": [
        {
          "output_type": "display_data",
          "data": {
            "text/plain": [
              "<Figure size 640x480 with 1 Axes>"
            ],
            "image/png": "[encoded data removed]"
          },
          "metadata": {}
        }
      ]
    },
    {
      "cell_type": "markdown",
      "source": [
        "16.2% of the population comprises senior citizens."
      ],
      "metadata": {
        "id": "PjeO1FFM8Mwt"
      }
    },
    {
      "cell_type": "code",
      "source": [
        "sns.countplot( x='SeniorCitizen', hue ='Churn', data =df)\n",
        "plt.title('SeniorCitizen vs Churn')"
      ],
      "metadata": {
        "colab": {
          "base_uri": "https://localhost:8080/",
          "height": 489
        },
        "id": "wX2ID6IIanIp",
        "outputId": "b2ab4fc1-ba25-40ad-efa2-dbe1acae380d"
      },
      "execution_count": 26,
      "outputs": [
        {
          "output_type": "execute_result",
          "data": {
            "text/plain": [
              "Text(0.5, 1.0, 'SeniorCitizen vs Churn')"
            ]
          },
          "metadata": {},
          "execution_count": 26
        },
        {
          "output_type": "display_data",
          "data": {
            "text/plain": [
              "<Figure size 640x480 with 1 Axes>"
            ],
            "image/png": "[encoded data removed]"
          },
          "metadata": {}
        }
      ]
    },
    {
      "cell_type": "markdown",
      "source": [
        " senior citizens are more likely to churn compared to non-senior citizens."
      ],
      "metadata": {
        "id": "31VZ_F4HVyPv"
      }
    },
    {
      "cell_type": "code",
      "source": [
        "partner_rate= df['Partner'].value_counts()\n",
        "plt.pie(partner_rate.values, labels=partner_rate.index, autopct= '%1.1f%%')\n",
        "plt.title('Overall Partner rate')\n",
        "plt.show()"
      ],
      "metadata": {
        "colab": {
          "base_uri": "https://localhost:8080/",
          "height": 428
        },
        "id": "CSLXI2Zu_4sW",
        "outputId": "7b73cae7-796a-4235-cad4-43a5b76e5365"
      },
      "execution_count": 46,
      "outputs": [
        {
          "output_type": "display_data",
          "data": {
            "text/plain": [
              "<Figure size 640x480 with 1 Axes>"
            ],
            "image/png": "[encoded data removed]"
          },
          "metadata": {}
        }
      ]
    },
    {
      "cell_type": "markdown",
      "source": [
        "A significant portion, 51.7%, of customers are without partners."
      ],
      "metadata": {
        "id": "GLgtqW0kWR9Y"
      }
    },
    {
      "cell_type": "markdown",
      "source": [
        "### are customers with partners likely to churn?"
      ],
      "metadata": {
        "id": "4cLxOLrK-CnQ"
      }
    },
    {
      "cell_type": "code",
      "source": [
        "sns.countplot(df, x='Partner', hue='Churn')\n",
        "plt.title('Churn rate for Customers With/without partners')\n",
        "#plt.xlabel()"
      ],
      "metadata": {
        "colab": {
          "base_uri": "https://localhost:8080/",
          "height": 489
        },
        "id": "LrPgQes5-HG3",
        "outputId": "17d14d95-4d21-4a4f-9962-dddd58280706"
      },
      "execution_count": 29,
      "outputs": [
        {
          "output_type": "execute_result",
          "data": {
            "text/plain": [
              "Text(0.5, 1.0, 'Churn rate for Customers With/without partners')"
            ]
          },
          "metadata": {},
          "execution_count": 29
        },
        {
          "output_type": "display_data",
          "data": {
            "text/plain": [
              "<Figure size 640x480 with 1 Axes>"
            ],
            "image/png": "[encoded data removed]"
          },
          "metadata": {}
        }
      ]
    },
    {
      "cell_type": "markdown",
      "source": [
        "customers without partners are more likely to churn compared to those with partners"
      ],
      "metadata": {
        "id": "4ta3lCO_--oy"
      }
    },
    {
      "cell_type": "markdown",
      "source": [
        "### Does having dependents affect churn rate?"
      ],
      "metadata": {
        "id": "9dHcNUS2BpzL"
      }
    },
    {
      "cell_type": "code",
      "source": [
        "#df.groupby([\"Dependents\", \"Churn\"]).size() operation counts the occurrences of 'Yes' and 'No' churn for each contract type.\n",
        "#The .unstack() operation rearranges the data to create a DataFrame where each row corresponds to a contract type,\n",
        "#and columns represent the counts of 'Yes' and 'No' churn.\n",
        "df_grouped= df.groupby([\"Dependents\", \"Churn\"]).size().unstack()\n",
        "df_grouped.plot(kind ='bar', stacked=True)\n",
        "plt.title(\"Churn Distribution by Dependents\")\n",
        "plt.xlabel(\"Dependents\")\n",
        "plt.legend(['Non-Churned', 'Churned'])"
      ],
      "metadata": {
        "colab": {
          "base_uri": "https://localhost:8080/",
          "height": 497
        },
        "id": "TPfCjW5G-9_G",
        "outputId": "8b20ba36-7dd4-4167-d19f-e606c9f4fdce"
      },
      "execution_count": 30,
      "outputs": [
        {
          "output_type": "execute_result",
          "data": {
            "text/plain": [
              "<matplotlib.legend.Legend at 0x7c3fd54842e0>"
            ]
          },
          "metadata": {},
          "execution_count": 30
        },
        {
          "output_type": "display_data",
          "data": {
            "text/plain": [
              "<Figure size 640x480 with 1 Axes>"
            ],
            "image/png": "[encoded data removed]"
          },
          "metadata": {}
        }
      ]
    },
    {
      "cell_type": "markdown",
      "source": [
        "It's interesting to note that customers with no dependents have a higher likelihood to churn."
      ],
      "metadata": {
        "id": "0B6cuuRbDa9g"
      }
    },
    {
      "cell_type": "code",
      "source": [
        "df['Contract'].unique()"
      ],
      "metadata": {
        "colab": {
          "base_uri": "https://localhost:8080/"
        },
        "id": "28jTNuh3Dctu",
        "outputId": "9d234623-17fc-40ae-c076-2299009dcd83"
      },
      "execution_count": 31,
      "outputs": [
        {
          "output_type": "execute_result",
          "data": {
            "text/plain": [
              "array(['Month-to-month', 'One year', 'Two year'], dtype=object)"
            ]
          },
          "metadata": {},
          "execution_count": 31
        }
      ]
    },
    {
      "cell_type": "code",
      "source": [
        "df['InternetService'].unique()"
      ],
      "metadata": {
        "colab": {
          "base_uri": "https://localhost:8080/"
        },
        "id": "-v598iR3Dphy",
        "outputId": "65c821aa-fa4d-430e-839a-54c795cb08d5"
      },
      "execution_count": 32,
      "outputs": [
        {
          "output_type": "execute_result",
          "data": {
            "text/plain": [
              "array(['DSL', 'Fiber optic', 'No'], dtype=object)"
            ]
          },
          "metadata": {},
          "execution_count": 32
        }
      ]
    },
    {
      "cell_type": "code",
      "source": [
        "df['PaymentMethod'].unique()"
      ],
      "metadata": {
        "colab": {
          "base_uri": "https://localhost:8080/"
        },
        "id": "NMDLimXqEDbC",
        "outputId": "8a7c6d3e-19d3-49a1-9b74-06bff8da39dd"
      },
      "execution_count": 33,
      "outputs": [
        {
          "output_type": "execute_result",
          "data": {
            "text/plain": [
              "array(['Electronic check', 'Mailed check', 'Bank transfer (automatic)',\n",
              "       'Credit card (automatic)'], dtype=object)"
            ]
          },
          "metadata": {},
          "execution_count": 33
        }
      ]
    },
    {
      "cell_type": "code",
      "source": [
        "\n",
        "# Map 'No' to 0 and 'Yes' to 1 in the 'Churn' column\n",
        "df['ChurnA'] = df['Churn'].replace({'No': 0, 'Yes': 1})\n",
        "\n",
        "# Create a DataFrame with counts of 'Yes' and 'No' churn for each contract type\n",
        "contract_churn_counts = df.groupby(['Contract', 'ChurnA']).size().unstack()\n",
        "\n",
        "# Plot a stacked bar chart\n",
        "contract_churn_counts.plot(kind='bar', stacked=True, figsize=(10, 6))\n",
        "plt.title('Churn Counts by Contract Type')\n",
        "plt.xlabel('Contract Type')\n",
        "plt.ylabel('Count')\n",
        "plt.legend(title='ChurnA', loc='upper right', labels=['No', 'Yes'])\n",
        "plt.show()\n"
      ],
      "metadata": {
        "colab": {
          "base_uri": "https://localhost:8080/",
          "height": 663
        },
        "id": "ZjIfKtgRGukH",
        "outputId": "4e49a578-da94-4a0e-873e-ecbeb4feed46"
      },
      "execution_count": 34,
      "outputs": [
        {
          "output_type": "display_data",
          "data": {
            "text/plain": [
              "<Figure size 1000x600 with 1 Axes>"
            ],
            "image/png": "[encoded data removed]"
          },
          "metadata": {}
        }
      ]
    },
    {
      "cell_type": "markdown",
      "source": [
        "It seems like customers on a month-to-month basis are more likely to churn compared to those on longer-term contracts, such as one year or two years. This pattern suggests that Telco should encourage customers to commit to longer contract durations to reduce churn rates."
      ],
      "metadata": {
        "id": "bhTv47liXsMI"
      }
    },
    {
      "cell_type": "code",
      "source": [
        "df['tenure'].unique()"
      ],
      "metadata": {
        "colab": {
          "base_uri": "https://localhost:8080/"
        },
        "id": "2tB2uVfwL7Z1",
        "outputId": "9cdb710b-5504-4252-d63e-a498f88c25ba"
      },
      "execution_count": 35,
      "outputs": [
        {
          "output_type": "execute_result",
          "data": {
            "text/plain": [
              "array([ 1, 34,  2, 45,  8, 22, 10, 28, 62, 13, 16, 58, 49, 25, 69, 52, 71,\n",
              "       21, 12, 30, 47, 72, 17, 27,  5, 46, 11, 70, 63, 43, 15, 60, 18, 66,\n",
              "        9,  3, 31, 50, 64, 56,  7, 42, 35, 48, 29, 65, 38, 68, 32, 55, 37,\n",
              "       36, 41,  6,  4, 33, 67, 23, 57, 61, 14, 20, 53, 40, 59, 24, 44, 19,\n",
              "       54, 51, 26, 39])"
            ]
          },
          "metadata": {},
          "execution_count": 35
        }
      ]
    },
    {
      "cell_type": "code",
      "source": [
        "sns.boxplot(x='Churn', y='tenure', data =df)\n",
        "plt.title('Churn Rate By Tenure')\n",
        "plt.xlabel('Churn')\n",
        "plt.ylabel('Tenure')\n",
        "plt.show()"
      ],
      "metadata": {
        "colab": {
          "base_uri": "https://localhost:8080/",
          "height": 472
        },
        "id": "NZCEf9-hMIXc",
        "outputId": "d3968c8f-57fb-42a8-c039-5f040ca39ede"
      },
      "execution_count": 36,
      "outputs": [
        {
          "output_type": "display_data",
          "data": {
            "text/plain": [
              "<Figure size 640x480 with 1 Axes>"
            ],
            "image/png": "[encoded data removed]"
          },
          "metadata": {}
        }
      ]
    },
    {
      "cell_type": "markdown",
      "source": [
        "The observation that customers who have churned tend to have a shorter tenure period compared to those who haven't churned is significant.The median tenure periods implies that customers with shorter tenure are more prone to churn, while those with longer tenure are more likely to remain loyal to the company."
      ],
      "metadata": {
        "id": "Rd5QT6lbYp-G"
      }
    },
    {
      "cell_type": "markdown",
      "source": [
        "### How  many customers have phone service?"
      ],
      "metadata": {
        "id": "EmKlsz9pO4mD"
      }
    },
    {
      "cell_type": "code",
      "source": [
        "counts=df['PhoneService'].value_counts()\n",
        "labels= [\"With PhoneServices\", \"Without PhoneServices\"]\n",
        "plt.pie(counts.values,labels=labels, autopct= '%1.1f%%')\n",
        "plt.title('Phone Service rate in Customers')"
      ],
      "metadata": {
        "colab": {
          "base_uri": "https://localhost:8080/",
          "height": 445
        },
        "id": "nSGmxkWHO90C",
        "outputId": "18ab557e-85fb-43a8-8935-ced4aed060c8"
      },
      "execution_count": 37,
      "outputs": [
        {
          "output_type": "execute_result",
          "data": {
            "text/plain": [
              "Text(0.5, 1.0, 'Phone Service rate in Customers')"
            ]
          },
          "metadata": {},
          "execution_count": 37
        },
        {
          "output_type": "display_data",
          "data": {
            "text/plain": [
              "<Figure size 640x480 with 1 Axes>"
            ],
            "image/png": "[encoded data removed]"
          },
          "metadata": {}
        }
      ]
    },
    {
      "cell_type": "markdown",
      "source": [
        "###Does presence or absence affect of phone service impact churn behaviour?"
      ],
      "metadata": {
        "id": "7Cg8JYQ-PkSj"
      }
    },
    {
      "cell_type": "code",
      "source": [
        "# Calculate counts percentage\n",
        "bygroup_percentage = bygroup.div(bygroup.sum(axis=1), axis=0) * 100\n",
        "\n",
        "# Plot\n",
        "bygroup_percentage.plot(kind='bar', stacked=True)\n",
        "plt.title('Effect of Phone service on churn rate')\n",
        "plt.ylabel('Percentage')\n",
        "plt.xlabel('PhoneService')\n",
        "plt.show()\n"
      ],
      "metadata": {
        "colab": {
          "base_uri": "https://localhost:8080/",
          "height": 480
        },
        "id": "6lVwUZcIaSt9",
        "outputId": "3aad3354-3a9f-490a-ce9a-22d0f5d8df59"
      },
      "execution_count": 49,
      "outputs": [
        {
          "output_type": "display_data",
          "data": {
            "text/plain": [
              "<Figure size 640x480 with 1 Axes>"
            ],
            "image/png": "[encoded data removed]"
          },
          "metadata": {}
        }
      ]
    },
    {
      "cell_type": "markdown",
      "source": [
        "The percentage rate of churn is almost the same for customers with and without phone service, it suggests that phone service might not be a significant factor influencing churn in this dataset."
      ],
      "metadata": {
        "id": "TFosKzAaTpxu"
      }
    },
    {
      "cell_type": "markdown",
      "source": [
        "### Effect of multiple lines on churn?"
      ],
      "metadata": {
        "id": "P0WaOd6FUZRs"
      }
    },
    {
      "cell_type": "code",
      "source": [
        "df['MultipleLines'].unique()"
      ],
      "metadata": {
        "colab": {
          "base_uri": "https://localhost:8080/"
        },
        "id": "XgCX1dnHUYdG",
        "outputId": "ea4dc6e4-4055-4e52-c08e-37995729f76a"
      },
      "execution_count": 40,
      "outputs": [
        {
          "output_type": "execute_result",
          "data": {
            "text/plain": [
              "array(['No phone service', 'No', 'Yes'], dtype=object)"
            ]
          },
          "metadata": {},
          "execution_count": 40
        }
      ]
    },
    {
      "cell_type": "code",
      "source": [
        "# Calculate counts percentage\n",
        "by_group_percentage = by_group.div(by_group.sum(axis=1), axis=0) * 100\n",
        "\n",
        "# Plot\n",
        "by_group_percentage.plot(kind='bar', stacked=True)\n",
        "plt.title('Effect of Multiple lines on churn rate')\n",
        "plt.ylabel('Percentage')\n",
        "plt.xlabel('Multiplelines')\n",
        "plt.show()\n"
      ],
      "metadata": {
        "colab": {
          "base_uri": "https://localhost:8080/",
          "height": 590
        },
        "id": "Qbt1kG2VbBve",
        "outputId": "5a268c5b-51d1-4093-dd2a-21084f0355e8"
      },
      "execution_count": 51,
      "outputs": [
        {
          "output_type": "display_data",
          "data": {
            "text/plain": [
              "<Figure size 640x480 with 1 Axes>"
            ],
            "image/png": "[encoded data removed]"
          },
          "metadata": {}
        }
      ]
    },
    {
      "cell_type": "markdown",
      "source": [
        "Which Internet service provider has the highest churn rate?"
      ],
      "metadata": {
        "id": "K2BFWuLUfYw4"
      }
    },
    {
      "cell_type": "code",
      "source": [
        "df['InternetService'].unique()"
      ],
      "metadata": {
        "colab": {
          "base_uri": "https://localhost:8080/"
        },
        "id": "3NCZFNLgfgEC",
        "outputId": "dcbdf8a6-c203-43c4-9169-b89903490459"
      },
      "execution_count": 42,
      "outputs": [
        {
          "output_type": "execute_result",
          "data": {
            "text/plain": [
              "array(['DSL', 'Fiber optic', 'No'], dtype=object)"
            ]
          },
          "metadata": {},
          "execution_count": 42
        }
      ]
    },
    {
      "cell_type": "code",
      "source": [
        "df['ChurnA'] = df['Churn'].map({'No': 0, 'Yes': 1})\n",
        "internet_group=df.groupby('InternetService')['ChurnA'].mean().reset_index()\n",
        "internet_group=internet_group.sort_values('ChurnA', ascending=False)\n",
        "plt.figure(figsize=(8,4))\n",
        "sns.barplot(x='ChurnA', y='InternetService', data=internet_group, color='lightblue')\n",
        "plt.xlabel('')\n",
        "plt.title('InternetService vs ChurnA')"
      ],
      "metadata": {
        "colab": {
          "base_uri": "https://localhost:8080/",
          "height": 408
        },
        "id": "R0rRzs24f1qD",
        "outputId": "bc1b40f0-612f-4f40-c3fd-4c9444a61a46"
      },
      "execution_count": 43,
      "outputs": [
        {
          "output_type": "execute_result",
          "data": {
            "text/plain": [
              "Text(0.5, 1.0, 'InternetService vs ChurnA')"
            ]
          },
          "metadata": {},
          "execution_count": 43
        },
        {
          "output_type": "display_data",
          "data": {
            "text/plain": [
              "<Figure size 800x400 with 1 Axes>"
            ],
            "image/png": "[encoded data removed]"
          },
          "metadata": {}
        }
      ]
    },
    {
      "cell_type": "markdown",
      "source": [
        "###Do customers with online security tend to churn less frequently"
      ],
      "metadata": {
        "id": "DK9UXyoRnAHP"
      }
    },
    {
      "cell_type": "code",
      "source": [
        "df['OnlineSecurity'].unique()"
      ],
      "metadata": {
        "colab": {
          "base_uri": "https://localhost:8080/"
        },
        "id": "_pbb9MQSnxvY",
        "outputId": "8451698c-3ab7-434b-b1c9-0f7328417eea"
      },
      "execution_count": 44,
      "outputs": [
        {
          "output_type": "execute_result",
          "data": {
            "text/plain": [
              "array(['No', 'Yes', 'No internet service'], dtype=object)"
            ]
          },
          "metadata": {},
          "execution_count": 44
        }
      ]
    },
    {
      "cell_type": "code",
      "source": [
        "by_group= df.groupby(['OnlineSecurity','Churn']).size().unstack()\n",
        "by_group.plot(kind='bar', stacked =True)\n",
        "plt.title('Effect of OnlineSecurity on churn rate')\n",
        "plt.ylabel('count')\n",
        "plt.xlabel('OnlineSecurity')\n",
        "#plt.legend()"
      ],
      "metadata": {
        "colab": {
          "base_uri": "https://localhost:8080/",
          "height": 607
        },
        "id": "LfeWUeCkm9s9",
        "outputId": "505027ab-86b8-4de4-abd6-f8d34e5d3be2"
      },
      "execution_count": 45,
      "outputs": [
        {
          "output_type": "execute_result",
          "data": {
            "text/plain": [
              "Text(0.5, 0, 'OnlineSecurity')"
            ]
          },
          "metadata": {},
          "execution_count": 45
        },
        {
          "output_type": "display_data",
          "data": {
            "text/plain": [
              "<Figure size 640x480 with 1 Axes>"
            ],
            "image/png": "[encoded data removed]"
          },
          "metadata": {}
        }
      ]
    },
    {
      "cell_type": "markdown",
      "source": [
        "Larger ratio of customers dont have online security and it appears that they tend to churn more than those who have online security"
      ],
      "metadata": {
        "id": "ygIuH7yKn4dT"
      }
    },
    {
      "cell_type": "markdown",
      "source": [
        "# Conclusion"
      ],
      "metadata": {
        "id": "W2oUUlzPTVwS"
      }
    },
    {
      "cell_type": "markdown",
      "source": [
        "### Features that have an influence on the churn rate:\n",
        "\n",
        "SeniorCitizen: yes\n",
        "\n",
        "Partner: no\n",
        "\n",
        "Dependents: no\n",
        "\n",
        "Tenure: low tenure\n",
        "\n",
        "InternetService: fiber optic\n",
        "\n",
        "OnlineSecurity: no\n",
        "\n"
      ],
      "metadata": {
        "id": "DfbnxHgXTYJq"
      }
    },
    {
      "cell_type": "markdown",
      "source": [
        "### Features that don't have an influence on the churn rate:\n",
        "\n",
        "Gender\n",
        "\n",
        "PhoneService\n",
        "\n",
        "MultipleLines"
      ],
      "metadata": {
        "id": "8EVJwrceTsmg"
      }
    }
  ]
}